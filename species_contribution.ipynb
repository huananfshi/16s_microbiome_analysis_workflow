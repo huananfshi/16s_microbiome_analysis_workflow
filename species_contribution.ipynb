{
 "cells": [
  {
   "cell_type": "code",
   "execution_count": 20,
   "metadata": {},
   "outputs": [],
   "source": [
    "import pandas as pd\n",
    "import scipy as sp\n",
    "import numpy as np\n",
    "from statsmodels.formula.api import ols\n",
    "import statsmodels.stats.multicomp\n",
    "from statsmodels.stats.anova import anova_lm\n",
    "import scipy.stats as stats"
   ]
  },
  {
   "cell_type": "code",
   "execution_count": null,
   "metadata": {},
   "outputs": [],
   "source": [
    "#preprocessing\n",
    "gene = pd.read_csv(\"~/.../EC_metagenome_out/pred_metagenome_strat.tsv\",header=0,index_col=0,sep='\\t')\n",
    "sequence = gene.sequence\n",
    "gene_relab = pd.read_csv(\"~/.../EC_metagenome_out/ecs_relab_strat_names.tsv\",header=0,index_col=0,sep='\\t')\n",
    "gene_relab = pd.concat([sequence,gene_relab],axis=1)\n",
    "scfa = [\"EC:5.3.3.3\",\"EC:4.2.1.17\",\"EC:4.2.1.120\",\"EC:2.8.3.1\",\"EC:2.7.2.7\",\"EC:2.7.2.1\",\"EC:2.3.1.9\",\"EC:2.3.1.19\",\"EC:1.3.8.1\",\n",
    "       \"EC:1.1.1.27\",\"EC:1.2.1.10\",\"EC:6.2.1.1\",\"EC:4.2.1.55\",\"EC:2.8.3.8\",\"EC:2.7.2.15\",\"EC:2.3.1.8\",\"EC:1.3.1.44\",\"EC:2.1.3.1\"]\n",
    "\n",
    "gene_scfa = gene_relab.loc[scfa].sort_index()\n",
    "taxa=pd.read_csv(\"~/.../asv_genus.tsv\",header=0,index_col=0,sep='\\t')\n",
    "taxonomy=taxa.taxonomy.to_dict()\n",
    "gene_scfa_taxa = gene_scfa.replace(taxonomy)\n",
    "gene_scfa_taxa_grouped=gene_scfa_taxa.groupby([gene_scfa_taxa.index,gene_scfa_taxa.sequence,gene_scfa_taxa.description]).sum()\n",
    "gene_scfa_taxa_grouped.to_csv(\"~/.../gene_scfa_taxa.csv\")"
   ]
  },
  {
   "cell_type": "code",
   "execution_count": 37,
   "metadata": {},
   "outputs": [],
   "source": [
    "gene = pd.read_csv(\"~/.../gene_scfa_taxa.csv\",index_col=[0,1])\n",
    "gene_group = gene.transpose()\n",
    "\n",
    "metadata = pd.read_csv(\"~/.../metadata_all.csv\",index_col=0)\n",
    "gene_sample = metadata.index.intersection(gene_group.index)\n",
    "gene_metadata = pd.concat([metadata.loc[gene_sample],gene_group.loc[gene_sample]],sort = True, axis =1 )\n",
    "gene_name=gene.description"
   ]
  },
  {
   "cell_type": "code",
   "execution_count": 22,
   "metadata": {},
   "outputs": [],
   "source": [
    "#for a single time point only\n",
    "G30 = (metadata.Group=='Y_30_Fecal') | (metadata.Group=='A_30_Fecal')\n",
    "gene_metadata_30 = gene_metadata[G30]\n",
    "\n",
    "G60 = (gene_metadata.Group=='Y_60_Fecal') | (gene_metadata.Group=='A_60_Fecal')\n",
    "gene_metadata_60 = gene_metadata[G60]\n",
    "\n",
    "G90 = (gene_metadata.Group=='Y_90_Fecal') | (gene_metadata.Group=='A_90_Fecal')\n",
    "gene_metadata_90 = gene_metadata[G90]"
   ]
  },
  {
   "cell_type": "code",
   "execution_count": 42,
   "metadata": {},
   "outputs": [],
   "source": [
    "def gene_stat(result):\n",
    "    #there are a ton of stuff can be simplified or optimized for more general use: I can load the file and filter groups based on given names\n",
    "    #i can set an argument to determine the numbers of groups, factors and determine which stats should be run\n",
    "    res_sca=result  \n",
    "    genes = res_sca.columns.tolist()[4:]\n",
    "    res_stat = pd.DataFrame()\n",
    "    res_mc = pd.DataFrame()\n",
    "\n",
    "    for gene in genes: \n",
    "        test = res_sca.loc[:,[\"Group\", \"Y-A\",\"Time\",\"Location\",gene]]\n",
    "        test.columns = [\"Group\",\"YA\",\"time\",\"site\",\"value\"]\n",
    "        test.loc[:,\"value\"]=test.loc[:,\"value\"].astype(float)\n",
    "        model = ols('value ~ C(YA)*C(time)*C(site)', test).fit()\n",
    "        aov_table = anova_lm(model, typ=1)\n",
    "        res_stat=res_stat.append(aov_table[\"PR(>F)\"].transpose()[0:7])\n",
    "        mc = statsmodels.stats.multicomp.MultiComparison(test['value'],test['Group'])\n",
    "        mc_BH_table = mc.allpairtest(stats.ttest_ind,method='fdr_bh')[0]\n",
    "        mc_table=pd.DataFrame(mc_BH_table.data[1:],columns=mc_BH_table.data[0])\n",
    "        res_mc = res_mc.append(mc_table[\"pval\"].transpose())\n",
    "    res_mc.index = genes\n",
    "    res_stat.index = genes\n",
    "    res_mc.columns = mc_table[\"group1\"]+\"_\"+mc_table[\"group2\"]\n",
    "    res_stats = pd.concat([res_stat,res_mc],axis =1)\n",
    "    return res_stats #,res_sca_sig"
   ]
  },
  {
   "cell_type": "code",
   "execution_count": 44,
   "metadata": {},
   "outputs": [],
   "source": [
    "#change gene_metadata to gene_metadata_*timepoint for one timepoint analysis\n",
    "gene_abun_stat = gene_stat(gene_metadata)\n",
    "gene_abun_stat_name = pd.concat([gene_name,gene_abun_stat],axis = 1)\n",
    "gene_abun_stat_name[['description',\"A_30_Fecal_Y_30_Fecal\",\"A_60_Fecal_Y_60_Fecal\",\"A_90_Fecal_Y_90_Fecal\"]].to_csv('~/.../scfa_enzymes_taxa_stats.csv')"
   ]
  }
 ],
 "metadata": {
  "kernelspec": {
   "display_name": "Python 3",
   "language": "python",
   "name": "python3"
  },
  "language_info": {
   "codemirror_mode": {
    "name": "ipython",
    "version": 3
   },
   "file_extension": ".py",
   "mimetype": "text/x-python",
   "name": "python",
   "nbconvert_exporter": "python",
   "pygments_lexer": "ipython3",
   "version": "3.7.6"
  }
 },
 "nbformat": 4,
 "nbformat_minor": 2
}
