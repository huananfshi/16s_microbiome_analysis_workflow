{
 "cells": [
  {
   "cell_type": "code",
   "execution_count": null,
   "metadata": {},
   "outputs": [],
   "source": [
    "import pandas as pd\n",
    "asv = pd.read_csv(\"~/.../asv.tsv\",sep='\\t',header=1)\n",
    "taxa=pd.read_csv(\"~/.../asv_genus.csv\",header=0,index_col=0)\n",
    "#replace ASVs with assigned taxa\n",
    "taxonomy=taxa.taxonomy.to_dict()\n",
    "asv=asv.replace(taxonomy)\n",
    "#group counts by taxa\n",
    "asv=asv.groupby('#OTU ID').sum()\n",
    "asv=asv.loc[:,asv.columns[10:]]\n",
    "asv.index.name='taxonomy'\n",
    "\n",
    "asv.to_csv('~/.../asv_grouped.csv')"
   ]
  }
 ],
 "metadata": {
  "kernelspec": {
   "display_name": "Python 3",
   "language": "python",
   "name": "python3"
  },
  "language_info": {
   "codemirror_mode": {
    "name": "ipython",
    "version": 3
   },
   "file_extension": ".py",
   "mimetype": "text/x-python",
   "name": "python",
   "nbconvert_exporter": "python",
   "pygments_lexer": "ipython3",
   "version": "3.7.6"
  }
 },
 "nbformat": 4,
 "nbformat_minor": 4
}
