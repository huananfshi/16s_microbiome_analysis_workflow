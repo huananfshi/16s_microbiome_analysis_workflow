{
 "cells": [
  {
   "cell_type": "code",
   "execution_count": 1,
   "metadata": {},
   "outputs": [],
   "source": [
    "import pandas as pd\n",
    "import scipy as sp\n",
    "import numpy as np\n",
    "from statsmodels.formula.api import ols\n",
    "import statsmodels.stats.multicomp\n",
    "from statsmodels.stats.anova import anova_lm\n",
    "import scipy.stats as stats"
   ]
  },
  {
   "cell_type": "code",
   "execution_count": 3,
   "metadata": {},
   "outputs": [],
   "source": [
    "path = pd.read_csv(\"~/.../pathways_out/path_abun_relab_description.csv\",index_col=0)\n",
    "path = path.transpose()\n",
    "metadata = pd.read_csv(\"~/.../metadata_all.csv\",index_col=0)\n",
    "path_sample = metadata.index.intersection(path.index)\n",
    "path_name = path.loc[\"description\"]\n",
    "path_metadata = pd.concat([metadata.loc[path_sample],path.loc[path_sample]],sort = True, axis =1 )\n"
   ]
  },
  {
   "cell_type": "code",
   "execution_count": 4,
   "metadata": {},
   "outputs": [],
   "source": [
    "def path_stat(result):\n",
    "    #there are a ton of stuff can be simplified or optimized for more pathral use: I can load the file and filter groups based on given names\n",
    "    #i can set an argument to determine the numbers of groups, factors and determine which stats should be run\n",
    "    res_sca=result  \n",
    "    paths = res_sca.columns.tolist()[4:]\n",
    "    res_stat = pd.DataFrame()\n",
    "    res_mc = pd.DataFrame()\n",
    "\n",
    "    for path in paths: \n",
    "        test = res_sca.loc[:,[\"Group\", \"Y-A\",\"Time\",\"Location\",path]]\n",
    "        test.columns = [\"Group\",\"YA\",\"time\",\"site\",\"value\"]\n",
    "        test.loc[:,\"value\"]=test.loc[:,\"value\"].astype(float)\n",
    "        model = ols('value ~ C(YA)*C(time)*C(site)', test).fit()\n",
    "        aov_table = anova_lm(model, typ=1)\n",
    "        res_stat=res_stat.append(aov_table[\"PR(>F)\"].transpose()[0:7])\n",
    "        mc = statsmodels.stats.multicomp.MultiComparison(test['value'],test['Group'])\n",
    "        mc_BH_table = mc.allpairtest(stats.ttest_ind,method='fdr_bh')[0]\n",
    "        mc_table=pd.DataFrame(mc_BH_table.data[1:],columns=mc_BH_table.data[0])\n",
    "        res_mc = res_mc.append(mc_table[\"pval_corr\"].transpose())\n",
    "    res_mc.index = paths\n",
    "    res_stat.index = paths\n",
    "    res_mc.columns = mc_table[\"group1\"]+\"_\"+mc_table[\"group2\"]\n",
    "    res_stats = pd.concat([res_stat,res_mc],axis =1)\n",
    "    return res_stats #,res_sca_sig"
   ]
  },
  {
   "cell_type": "code",
   "execution_count": 5,
   "metadata": {
    "scrolled": true
   },
   "outputs": [
    {
     "name": "stderr",
     "output_type": "stream",
     "text": [
      "/opt/anaconda3/lib/python3.7/site-packages/statsmodels/stats/multitest.py:325: RuntimeWarning: invalid value encountered in less_equal\n",
      "  reject = pvals_sorted <= ecdffactor*alpha\n"
     ]
    }
   ],
   "source": [
    "path_abun_stat = path_stat(path_metadata)"
   ]
  },
  {
   "cell_type": "code",
   "execution_count": 6,
   "metadata": {},
   "outputs": [],
   "source": [
    "path_abun_stat_name = pd.concat([path_name,path_abun_stat],axis = 1)"
   ]
  },
  {
   "cell_type": "code",
   "execution_count": 8,
   "metadata": {},
   "outputs": [],
   "source": [
    "path_abun_stat_name.to_csv(\"~/.../path_abun_relab_all_name_stat.csv\")"
   ]
  }
 ],
 "metadata": {
  "kernelspec": {
   "display_name": "Python 3",
   "language": "python",
   "name": "python3"
  },
  "language_info": {
   "codemirror_mode": {
    "name": "ipython",
    "version": 3
   },
   "file_extension": ".py",
   "mimetype": "text/x-python",
   "name": "python",
   "nbconvert_exporter": "python",
   "pygments_lexer": "ipython3",
   "version": "3.7.6"
  }
 },
 "nbformat": 4,
 "nbformat_minor": 2
}
