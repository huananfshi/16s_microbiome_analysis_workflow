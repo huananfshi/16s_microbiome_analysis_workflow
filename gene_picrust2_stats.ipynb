{
 "cells": [
  {
   "cell_type": "code",
   "execution_count": 2,
   "metadata": {},
   "outputs": [],
   "source": [
    "import pandas as pd\n",
    "import scipy as sp\n",
    "import numpy as np\n",
    "from statsmodels.formula.api import ols\n",
    "import statsmodels.stats.multicomp\n",
    "from statsmodels.stats.anova import anova_lm\n",
    "import scipy.stats as stats"
   ]
  },
  {
   "cell_type": "code",
   "execution_count": 10,
   "metadata": {},
   "outputs": [],
   "source": [
    "gene = pd.read_csv(\"~/.../EC_metagenome_out/ecs_relab_description.csv\",index_col=0)\n",
    "\n",
    "gene_group = gene.transpose()\n",
    "gene_name=gene_group.loc['description']\n",
    "metadata = pd.read_csv(\"~/.../metadata_all.csv\",index_col=0)\n",
    "gene_sample = metadata.index.intersection(gene_group.index)\n",
    "gene_metadata = pd.concat([metadata.loc[gene_sample],gene_group.loc[gene_sample]],sort = True, axis =1 )\n"
   ]
  },
  {
   "cell_type": "code",
   "execution_count": 8,
   "metadata": {},
   "outputs": [],
   "source": [
    "#for a single time point only\n",
    "#change 'pval_corr' in gene_stat function to pval. using p_adjustmebt for FDR adjustment\n",
    "G60 = (gene_metadata.Group=='Y_30_Fecal') | (gene_metadata.Group=='A_30_Fecal')\n",
    "gene_metadata_30 = gene_metadata[G30]\n",
    "G60 = (gene_metadata.Group=='Y_60_Fecal') | (gene_metadata.Group=='A_60_Fecal')\n",
    "gene_metadata_60 = gene_metadata[G60]\n",
    "G90 = (gene_metadata.Group=='Y_90_Fecal') | (gene_metadata.Group=='A_90_Fecal')\n",
    "gene_metadata_90 = gene_metadata[G90]"
   ]
  },
  {
   "cell_type": "code",
   "execution_count": 5,
   "metadata": {},
   "outputs": [],
   "source": [
    "def gene_stat(result):\n",
    "    #there are a ton of stuff can be simplified or optimized for more general use: I can load the file and filter groups based on given names\n",
    "    #i can set an argument to determine the numbers of groups, factors and determine which stats should be run\n",
    "    res_sca=result  \n",
    "    genes = res_sca.columns.tolist()[4:]\n",
    "    res_stat = pd.DataFrame()\n",
    "    res_mc = pd.DataFrame()\n",
    "\n",
    "    for gene in genes: \n",
    "        test = res_sca.loc[:,[\"Group\", \"Y-A\",\"Time\",\"Location\",gene]]\n",
    "        test.columns = [\"Group\",\"YA\",\"time\",\"site\",\"value\"]\n",
    "        test.loc[:,\"value\"]=test.loc[:,\"value\"].astype(float)\n",
    "        model = ols('value ~ C(YA)*C(time)*C(site)', test).fit()\n",
    "        aov_table = anova_lm(model, typ=1)\n",
    "        res_stat=res_stat.append(aov_table[\"PR(>F)\"].transpose()[0:7])\n",
    "        mc = statsmodels.stats.multicomp.MultiComparison(test['value'],test['Group'])\n",
    "        mc_BH_table = mc.allpairtest(stats.ttest_ind,method='fdr_bh')[0]\n",
    "        mc_table=pd.DataFrame(mc_BH_table.data[1:],columns=mc_BH_table.data[0])\n",
    "        res_mc = res_mc.append(mc_table[\"pval_corr\"].transpose())\n",
    "    res_mc.index = genes\n",
    "    res_stat.index = genes\n",
    "    res_mc.columns = mc_table[\"group1\"]+\"_\"+mc_table[\"group2\"]\n",
    "    res_stats = pd.concat([res_stat,res_mc],axis =1)\n",
    "    return res_stats #,res_sca_sig"
   ]
  },
  {
   "cell_type": "code",
   "execution_count": 11,
   "metadata": {
    "scrolled": true
   },
   "outputs": [
    {
     "name": "stderr",
     "output_type": "stream",
     "text": [
      "/opt/anaconda3/lib/python3.7/site-packages/statsmodels/stats/multitest.py:325: RuntimeWarning: invalid value encountered in less_equal\n",
      "  reject = pvals_sorted <= ecdffactor*alpha\n"
     ]
    }
   ],
   "source": [
    "#change gene_metadata to gene_metadata_*timepoint for one timepoint analysis\n",
    "gene_abun_stat = gene_stat(gene_metadata)\n",
    "gene_abun_stat_name = pd.concat([gene_name,gene_abun_stat],axis = 1)\n",
    "gene_abun_stat_name.to_csv(\"~/.../ecs_relab_all_name_stat.csv\")"
   ]
  },
  {
   "cell_type": "code",
   "execution_count": 20,
   "metadata": {},
   "outputs": [],
   "source": [
    "#to extract scfa related genes \n",
    "scfa = [\"EC:5.3.3.3\",\"EC:4.2.1.17\",\"EC:4.2.1.120\",\"EC:2.8.3.1\",\"EC:2.7.2.7\",\"EC:2.7.2.1\",\"EC:2.3.1.9\",\"EC:2.3.1.19\",\"EC:1.3.8.1\",\n",
    "       \"EC:1.1.1.27\",\"EC:1.2.1.10\",\"EC:6.2.1.1\",\"EC:4.2.1.55\",\"EC:2.8.3.8\",\"EC:2.7.2.15\",\"EC:2.3.1.8\",\"EC:1.3.1.44\",\"EC:2.1.3.1\"]\n",
    "\n",
    "gene_abun_stat_name.loc[scfa,['description',\"A_30_Fecal_Y_30_Fecal\",\"A_60_Fecal_Y_60_Fecal\",\"A_90_Fecal_Y_90_Fecal\"]].to_csv('~/.../scfa_enzymes_stats.csv')"
   ]
  }
 ],
 "metadata": {
  "kernelspec": {
   "display_name": "Python 3",
   "language": "python",
   "name": "python3"
  },
  "language_info": {
   "codemirror_mode": {
    "name": "ipython",
    "version": 3
   },
   "file_extension": ".py",
   "mimetype": "text/x-python",
   "name": "python",
   "nbconvert_exporter": "python",
   "pygments_lexer": "ipython3",
   "version": "3.7.6"
  }
 },
 "nbformat": 4,
 "nbformat_minor": 2
}
